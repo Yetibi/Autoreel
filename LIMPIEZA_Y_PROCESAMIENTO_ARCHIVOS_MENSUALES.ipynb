{
  "nbformat": 4,
  "nbformat_minor": 0,
  "metadata": {
    "colab": {
      "provenance": [],
      "authorship_tag": "ABX9TyO06nb3rPl28jh5iwKwq2qf",
      "include_colab_link": true
    },
    "kernelspec": {
      "name": "python3",
      "display_name": "Python 3"
    },
    "language_info": {
      "name": "python"
    }
  },
  "cells": [
    {
      "cell_type": "markdown",
      "metadata": {
        "id": "view-in-github",
        "colab_type": "text"
      },
      "source": [
        "<a href=\"https://colab.research.google.com/github/Yetibi/Autoreel/blob/main/LIMPIEZA_Y_PROCESAMIENTO_ARCHIVOS_MENSUALES.ipynb\" target=\"_parent\"><img src=\"https://colab.research.google.com/assets/colab-badge.svg\" alt=\"Open In Colab\"/></a>"
      ]
    },
    {
      "cell_type": "markdown",
      "source": [
        "CODIGO LiMPIEZA Y TRANSFORMACION DE DATOS (BASADO EN PYTHON PARA EXCEL)"
      ],
      "metadata": {
        "id": "VgqhQMDcUulU"
      }
    },
    {
      "cell_type": "code",
      "execution_count": 11,
      "metadata": {
        "colab": {
          "base_uri": "https://localhost:8080/",
          "height": 207
        },
        "id": "kh89afDWSQ7c",
        "outputId": "fabc241d-f6f3-493c-841a-09935e3857dd"
      },
      "outputs": [
        {
          "output_type": "error",
          "ename": "NameError",
          "evalue": "name 'xl' is not defined",
          "traceback": [
            "\u001b[0;31m---------------------------------------------------------------------------\u001b[0m",
            "\u001b[0;31mNameError\u001b[0m                                 Traceback (most recent call last)",
            "\u001b[0;32m<ipython-input-11-fd905e6e91a9>\u001b[0m in \u001b[0;36m<cell line: 0>\u001b[0;34m()\u001b[0m\n\u001b[1;32m      3\u001b[0m \u001b[0;34m\u001b[0m\u001b[0m\n\u001b[1;32m      4\u001b[0m \u001b[0;31m# Paso 1: Cargar el DataFrame inicial\u001b[0m\u001b[0;34m\u001b[0m\u001b[0;34m\u001b[0m\u001b[0m\n\u001b[0;32m----> 5\u001b[0;31m \u001b[0mdf\u001b[0m \u001b[0;34m=\u001b[0m \u001b[0mxl\u001b[0m\u001b[0;34m(\u001b[0m\u001b[0;34m\"'UNIFICADA ORIGINAL'!A1:W2578\"\u001b[0m\u001b[0;34m,\u001b[0m \u001b[0mheaders\u001b[0m\u001b[0;34m=\u001b[0m\u001b[0;32mTrue\u001b[0m\u001b[0;34m)\u001b[0m\u001b[0;34m\u001b[0m\u001b[0;34m\u001b[0m\u001b[0m\n\u001b[0m\u001b[1;32m      6\u001b[0m \u001b[0;34m\u001b[0m\u001b[0m\n\u001b[1;32m      7\u001b[0m \u001b[0;31m# Paso 2: Limpiar nombres de columnas\u001b[0m\u001b[0;34m\u001b[0m\u001b[0;34m\u001b[0m\u001b[0m\n",
            "\u001b[0;31mNameError\u001b[0m: name 'xl' is not defined"
          ]
        }
      ],
      "source": [
        "# Paso 1: Montar Google Drive en Colab\n",
        "from google.colab import drive\n",
        "\n",
        "# Montar Google Drive\n",
        "drive.mount('/content/drive')\n",
        "\n",
        "# Paso 2: Cargar el archivo desde Google Drive\n",
        "import pandas as pd\n",
        "\n",
        "# Ruta del archivo en Google Drive (ajusta la ruta y el nombre del archivo según sea necesario)\n",
        "ruta_archivo = '/content/drive/My Drive/Data/nombre_del_archivo.xlsx'\n",
        "\n",
        "# Cargar el archivo en un DataFrame de pandas\n",
        "df = pd.read_excel(ruta_archivo)\n",
        "\n",
        "# Paso 3: Código de limpieza\n",
        "# Aquí está el código unificado que ya funcionó\n",
        "import numpy as np\n",
        "\n",
        "# Limpieza de nombres de columnas\n",
        "df.columns = df.columns.str.strip()\n",
        "\n",
        "# Lista de columnas clave\n",
        "columnas_clave = [\n",
        "    \"SERVICIO\", \"CLIENTE\", \"CELULAR\", \"VEHICULO\", \"PLACA\", \"OPERARIO\",\n",
        "    \"COMISION OPERARIO\", \"BANCOLOMBIA\", \"EFECTIVO\", \"DATAFONO\", \"TOTAL PAGADO\"\n",
        "]\n",
        "\n",
        "# Limpiar espacios internos en columnas clave\n",
        "df[columnas_clave] = df[columnas_clave].applymap(\n",
        "    lambda x: str(x).strip() if isinstance(x, str) else x\n",
        ")\n",
        "\n",
        "# Eliminar filas vacías en \"SERVICIO\"\n",
        "def fila_vacia_en_servicio(fila):\n",
        "    if fila[\"CATEGORIA\"].strip().upper() != \"SERVICIOS\":\n",
        "        return False\n",
        "    return all(\n",
        "        pd.isna(fila[col]) or str(fila[col]).strip() in [\"\", \"0\", \"None\", \"nan\"]\n",
        "        for col in columnas_clave\n",
        "    )\n",
        "df_tratada = df[~df.apply(fila_vacia_en_servicio, axis=1)].reset_index(drop=True)\n",
        "\n",
        "# Eliminar filas que son encabezados repetidos en \"SERVICIOS\"\n",
        "encabezados_servicio = [\n",
        "    \"# ORDEN\", \"SERVICIO\", \"CLIENTE\", \"CELULAR\", \"VEHICULO\", \"PLACA\", \"OPERARIO\",\n",
        "    \"COMISION OPERARIO\", \"BANCOLOMBIA\", \"EFECTIVO\", \"DATAFONO\", \"TOTAL PAGADO\"\n",
        "]\n",
        "\n",
        "def es_fila_encabezado(fila):\n",
        "    if str(fila.get(\"CATEGORIA\", \"\")).strip().upper() != \"SERVICIOS\":\n",
        "        return False\n",
        "    coincidencias = sum(\n",
        "        str(fila.get(col, \"\")).strip().upper() == col.strip().upper()\n",
        "        for col in encabezados_servicio\n",
        "    )\n",
        "    return coincidencias >= len(encabezados_servicio) - 1\n",
        "\n",
        "df_tratada = df_tratada[~df_tratada.apply(es_fila_encabezado, axis=1)].reset_index(drop=True)\n",
        "\n",
        "# Renombrar columnas\n",
        "df_tratada = df_tratada.rename(columns={\n",
        "    \"SERVICIO\": \"CONCEPTO\",\n",
        "    \"TOTAL PAGADO\": \"VALOR ($)\"\n",
        "})\n",
        "\n",
        "# Crear columna \"TIPO MOVIMIENTO\"\n",
        "categorias_egreso = [\n",
        "    \"COMISION\", \"GASTOS Ò PAGOS PROVEEDORES\", \"VALOR PAGOS TRANSFERENCIAS\", \"ENTREGA EFECTIVO DIA A:\"\n",
        "]\n",
        "df_tratada[\"TIPO MOVIMIENTO\"] = df_tratada[\"CATEGORIA\"].apply(\n",
        "    lambda x: \"EGRESO\" if str(x).strip().upper() in categorias_egreso else \"INGRESO\"\n",
        ")\n",
        "\n",
        "# Crear columna \"FORMA DE PAGO\"\n",
        "def detectar_forma_pago(row):\n",
        "    formas = []\n",
        "    if pd.to_numeric(row.get(\"EFECTIVO\", 0), errors=\"coerce\") > 0:\n",
        "        formas.append(\"EFECTIVO\")\n",
        "    if pd.to_numeric(row.get(\"BANCOLOMBIA\", 0), errors=\"coerce\") > 0:\n",
        "        formas.append(\"BANCOLOMBIA\")\n",
        "    if pd.to_numeric(row.get(\"DATAFONO\", 0), errors=\"coerce\") > 0:\n",
        "        formas.append(\"DATAFONO\")\n",
        "    return \"/\".join(formas) if formas else None\n",
        "\n",
        "df_tratada[\"FORMA DE PAGO\"] = df_tratada.apply(detectar_forma_pago, axis=1)\n",
        "\n",
        "# Asegurar valores comparables\n",
        "df_tratada[\"CATEGORIA\"] = df_tratada[\"CATEGORIA\"].astype(str).str.strip().str.upper()\n",
        "\n",
        "# Asignación condicional de \"EFECTIVO INGRESO\" y \"EFECTIVO EGRESO\"\n",
        "def asignar_efectivos(row):\n",
        "    categoria = row[\"CATEGORIA\"]\n",
        "    valor = pd.to_numeric(row[\"VALOR ($)\"], errors=\"coerce\") or 0\n",
        "    efectivo = pd.to_numeric(row[\"EFECTIVO\"], errors=\"coerce\") or 0\n",
        "\n",
        "    if categoria in [\"BASE DÍA\", \"INGRESO EFECTIVO\"]:\n",
        "        return pd.Series([valor, 0])\n",
        "    elif categoria == \"SERVICIOS\" and efectivo > 0:\n",
        "        return pd.Series([efectivo, 0])\n",
        "    elif categoria in [\"ADELANTOS O PRESTAMOS\", \"ENTREGA EFECTIVO DIA A\", \"GASTOS Ò PAGOS PROVEEDORES\"]:\n",
        "        return pd.Series([0, valor])\n",
        "    else:\n",
        "        return pd.Series([efectivo, None])\n",
        "\n",
        "df_tratada[[\"EFECTIVO INGRESO\", \"EFECTIVO EGRESO\"]] = df_tratada.apply(asignar_efectivos, axis=1)\n",
        "\n",
        "# Clasificar movimientos y columnas finales\n",
        "columnas_final = [\n",
        "    \"FECHA\", \"# ORDEN\", \"CONCEPTO\", \"CATEGORIA\", \"TIPO MOVIMIENTO\", \"CLIENTE\", \"CELULAR\",\n",
        "    \"VEHICULO\", \"PLACA\", \"OPERARIO\", \"FORMA DE PAGO\", \"BANCOLOMBIA\", \"EFECTIVO\", \"DATAFONO\",\n",
        "    \"INGRESO POR TRANSFERENCIA\", \"VALOR ($)\", \"BANCO VALOR PAGOS TRANSFERENCIAS\", \"BANCO INGRESO EFECTIVO\",\n",
        "    \"EFECTIVO INGRESO\", \"EFECTIVO EGRESO\"\n",
        "]\n",
        "df_tratada = df_tratada[[col for col in columnas_final if col in df_tratada.columns]]\n",
        "\n",
        "# Paso 4: Guardar el archivo procesado en Google Drive\n",
        "# Ruta para guardar el archivo procesado\n",
        "ruta_guardado = '/content/drive/My Drive/Data/nombre_del_archivo_limpio.xlsx'\n",
        "\n",
        "# Guardar el DataFrame procesado en formato Excel\n",
        "df_tratada.to_excel(ruta_guardado, index=False)\n",
        "\n",
        "print(f\"Archivo limpio guardado en: {ruta_guardado}\")"
      ]
    }
  ]
}