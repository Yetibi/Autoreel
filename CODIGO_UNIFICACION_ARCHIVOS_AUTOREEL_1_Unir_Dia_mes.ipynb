{
  "nbformat": 4,
  "nbformat_minor": 0,
  "metadata": {
    "colab": {
      "provenance": [],
      "mount_file_id": "17q3mrw6vyj142mzNKxd91MCpyFp3zt1a",
      "authorship_tag": "ABX9TyNFC+0arwgCIU772bnU6Y3Z",
      "include_colab_link": true
    },
    "kernelspec": {
      "name": "python3",
      "display_name": "Python 3"
    },
    "language_info": {
      "name": "python"
    }
  },
  "cells": [
    {
      "cell_type": "markdown",
      "metadata": {
        "id": "view-in-github",
        "colab_type": "text"
      },
      "source": [
        "<a href=\"https://colab.research.google.com/github/Yetibi/Autoreel/blob/main/CODIGO_UNIFICACION_ARCHIVOS_AUTOREEL_1_Unir_Dia_mes.ipynb\" target=\"_parent\"><img src=\"https://colab.research.google.com/assets/colab-badge.svg\" alt=\"Open In Colab\"/></a>"
      ]
    },
    {
      "cell_type": "markdown",
      "source": [
        "CODIGO CONSOLIDACIÓN ARCHIVOS RAW - AUTOREEL"
      ],
      "metadata": {
        "id": "sRM-YFK3tTz3"
      }
    },
    {
      "cell_type": "code",
      "source": [
        "from google.colab import drive\n",
        "drive.mount('/content/drive')"
      ],
      "metadata": {
        "colab": {
          "base_uri": "https://localhost:8080/"
        },
        "id": "dci24yvZtMLn",
        "outputId": "52991062-78d8-4341-8c21-b450c0976a44"
      },
      "execution_count": 29,
      "outputs": [
        {
          "output_type": "stream",
          "name": "stdout",
          "text": [
            "Drive already mounted at /content/drive; to attempt to forcibly remount, call drive.mount(\"/content/drive\", force_remount=True).\n"
          ]
        }
      ]
    },
    {
      "cell_type": "markdown",
      "source": [
        "ARCHIVO UNIFICADO COMPLETO - Unifica las pestañas diarias a 1 mensual por tipo de movimiento\n"
      ],
      "metadata": {
        "id": "HKZ0AnCDfHfq"
      }
    },
    {
      "cell_type": "code",
      "source": [
        "import pandas as pd\n",
        "\n",
        "# Configuración\n",
        "anio = 2024\n",
        "meses = {\"ENERO\": 1, \"FEBRERO\": 2}  # Meses y sus números\n",
        "nombre_archivo = f\"AUTOREEL ENERO_FEBRERO {anio}.xlsx\"\n",
        "ruta_base = \"/content/drive/MyDrive/AUTOREEL CONSULTORIA/BASES DE DATOS SOURCE/Año 2024 AutoReel\"\n",
        "ruta_archivo = f\"{ruta_base}/{nombre_archivo}\"\n",
        "ruta_salida = f\"/content/drive/MyDrive/AUTOREEL CONSULTORIA/AUTOREEL_CONSOLIDADO_ENERO_FEBRERO_{anio}.xlsx\"\n",
        "\n",
        "# Días válidos por mes\n",
        "dias_validos = {\n",
        "    \"ENERO\": [f\"ENERO {str(i).zfill(2)}\" for i in range(9, 32) if i not in [14, 21, 28]],\n",
        "    \"FEBRERO\": [f\"FEBRERO {str(i).zfill(2)}\" for i in range(1, 30) if i not in [4, 11, 18, 25]],\n",
        "}\n",
        "\n",
        "# Abrimos el archivo\n",
        "xl = pd.ExcelFile(ruta_archivo)\n",
        "\n",
        "# Contenedores por tipo\n",
        "servicios = []\n",
        "base_dia = []\n",
        "gastos = []\n",
        "adelantos = []\n",
        "entregas = []\n",
        "pagos_transferencias_1 = []\n",
        "pagos_transferencias_2 = []\n",
        "ingresos_efectivo = []\n",
        "\n",
        "# Proceso por hoja y mes\n",
        "for mes, dias in dias_validos.items():\n",
        "    for hoja in dias:\n",
        "        if hoja in xl.sheet_names:\n",
        "            df_raw = xl.parse(hoja, header=None)\n",
        "            fecha = pd.to_datetime(f\"{hoja.split()[1]}/{meses[mes]}/{anio}\", dayfirst=True).date()\n",
        "\n",
        "            # 1. SERVICIO: B2:M39\n",
        "            tabla_servicio = df_raw.iloc[1:39, 1:13].copy()\n",
        "            tabla_servicio.columns = df_raw.iloc[1, 1:13]\n",
        "            tabla_servicio = tabla_servicio.dropna(how=\"all\")\n",
        "            tabla_servicio[\"FECHA\"] = fecha\n",
        "            servicios.append(tabla_servicio)\n",
        "\n",
        "            # 2. BASE DIA: P2\n",
        "            valor_base = df_raw.iloc[1, 15]\n",
        "            if pd.notna(valor_base):\n",
        "                base_dia.append({\"FECHA\": fecha, \"BASE DÍA\": valor_base})\n",
        "\n",
        "            # 3. GASTOS Ò PAGOS PROVEEDORES: O14:P38\n",
        "            df_gastos = df_raw.iloc[13:38, 14:16].copy()\n",
        "            df_gastos.columns = df_raw.iloc[13, 14:16]\n",
        "            df_gastos = df_gastos.dropna(how=\"all\")\n",
        "            df_gastos[\"FECHA\"] = fecha\n",
        "            gastos.append(df_gastos)\n",
        "\n",
        "            # 4. ADELANTOS O PRESTAMOS: R2:S7\n",
        "            df_adelantos = df_raw.iloc[1:7, 17:19].copy()\n",
        "            df_adelantos.columns = [\"PERSONA\", \"VALOR\"]\n",
        "            df_adelantos = df_adelantos.dropna(how=\"all\")\n",
        "            df_adelantos[\"FECHA\"] = fecha\n",
        "            adelantos.append(df_adelantos)\n",
        "\n",
        "            # 5. ENTREGA EFECTIVO DIA A: R10:S12\n",
        "            entrega = df_raw.iloc[9:12, 17:19].copy()\n",
        "            entrega.columns = [\"PERSONA\", \"VALOR\"]\n",
        "            entrega = entrega.dropna(how=\"all\")\n",
        "            entrega[\"FECHA\"] = fecha\n",
        "            entregas.append(entrega)\n",
        "\n",
        "            # 6. PAGOS TRANSFERENCIAS: R14:T38\n",
        "            pagos1 = df_raw.iloc[13:38, 17:20].copy()\n",
        "            pagos1.columns = df_raw.iloc[13, 17:20]\n",
        "            pagos1 = pagos1.dropna(how=\"all\")\n",
        "            pagos1[\"FECHA\"] = fecha\n",
        "            pagos_transferencias_1.append(pagos1)\n",
        "\n",
        "            # 7. ABONO/BANCO (llamado también transferencias): U2:W9\n",
        "            pagos2 = df_raw.iloc[1:9, 20:23].copy()\n",
        "            pagos2.columns = [\"ORDEN\", \"EFECTIVO\", \"TRANSFERENCIA\"]\n",
        "            pagos2 = pagos2.dropna(how=\"all\")\n",
        "            pagos2[\"FECHA\"] = fecha\n",
        "            pagos_transferencias_2.append(pagos2)\n",
        "\n",
        "            # 8. INGRESO EFECTIVO: U10:W12\n",
        "            ingresos = df_raw.iloc[9:12, 20:23].copy()\n",
        "            ingresos.columns = [\"INGRESO EFECTIVO\", \"VALOR\", \"BANCO\"]\n",
        "            ingresos = ingresos.dropna(how=\"all\")\n",
        "            ingresos[\"FECHA\"] = fecha\n",
        "            ingresos_efectivo.append(ingresos)\n",
        "\n",
        "# Convertimos listas a DataFrames\n",
        "df_servicio = pd.concat(servicios, ignore_index=True)\n",
        "df_base = pd.DataFrame(base_dia)\n",
        "df_gastos = pd.concat(gastos, ignore_index=True)\n",
        "df_adelantos = pd.concat(adelantos, ignore_index=True)\n",
        "df_entregas = pd.concat(entregas, ignore_index=True)\n",
        "df_transf1 = pd.concat(pagos_transferencias_1, ignore_index=True)\n",
        "df_transf2 = pd.concat(pagos_transferencias_2, ignore_index=True)\n",
        "df_ingresos = pd.concat(ingresos_efectivo, ignore_index=True)\n",
        "\n",
        "# Guardamos todo\n",
        "with pd.ExcelWriter(ruta_salida, engine=\"openpyxl\", mode=\"w\") as writer:\n",
        "    df_servicio.to_excel(writer, sheet_name=\"SERVICIOS\", index=False)\n",
        "    df_base.to_excel(writer, sheet_name=\"BASE DÍA\", index=False)\n",
        "    df_gastos.to_excel(writer, sheet_name=\"GASTOS Ò PAGOS PROVEEDORES\", index=False)\n",
        "    df_adelantos.to_excel(writer, sheet_name=\"ADELANTOS O PRESTAMOS\", index=False)\n",
        "    df_entregas.to_excel(writer, sheet_name=\"ENTREGA EFECTIVO DIA A\", index=False)\n",
        "    df_transf1.to_excel(writer, sheet_name=\"PAGOS TRANSFERENCIAS 1\", index=False)\n",
        "    df_transf2.to_excel(writer, sheet_name=\"PAGOS TRANSFERENCIAS 2\", index=False)\n",
        "    df_ingresos.to_excel(writer, sheet_name=\"INGRESO EFECTIVO\", index=False)\n",
        "\n",
        "print(\"✅ Consolidación completada para enero y febrero.\")\n",
        "print(f\"📁 Archivo generado: {ruta_salida}\")"
      ],
      "metadata": {
        "colab": {
          "base_uri": "https://localhost:8080/"
        },
        "id": "IRH9HD_2fQAt",
        "outputId": "d3e464d7-4a33-429f-e43d-c7b91aac422a"
      },
      "execution_count": null,
      "outputs": [
        {
          "output_type": "stream",
          "name": "stderr",
          "text": [
            "<ipython-input-18-abd30d19199e>:77: SettingWithCopyWarning: \n",
            "A value is trying to be set on a copy of a slice from a DataFrame.\n",
            "Try using .loc[row_indexer,col_indexer] = value instead\n",
            "\n",
            "See the caveats in the documentation: https://pandas.pydata.org/pandas-docs/stable/user_guide/indexing.html#returning-a-view-versus-a-copy\n",
            "  pagos2[\"FECHA\"] = fecha\n"
          ]
        },
        {
          "output_type": "stream",
          "name": "stdout",
          "text": [
            "✅ Consolidación completada con los rangos y nombres corregidos.\n",
            "📁 Archivo generado: /content/drive/MyDrive/AUTOREEL CONSULTORIA/AUTOREEL_CONSOLIDADO_ABRIL_2024.xlsx\n"
          ]
        }
      ]
    },
    {
      "cell_type": "markdown",
      "source": [
        "2. GENERA PESTAÑA UNIFICADA DE TODAS LAS CATEGORIAS DE MOVIMIENTOS POR MES\n"
      ],
      "metadata": {
        "id": "A_zyk8eefSbL"
      }
    },
    {
      "cell_type": "code",
      "source": [
        "# 🔄 Crear hoja UNIFICADO con categoría\n",
        "df_servicio[\"CATEGORIA\"] = \"SERVICIOS\"\n",
        "df_base[\"CATEGORIA\"] = \"BASE DÍA\"\n",
        "df_gastos[\"CATEGORIA\"] = \"GASTOS Ò PAGOS PROVEEDORES\"\n",
        "df_adelantos[\"CATEGORIA\"] = \"ADELANTOS O PRESTAMOS\"\n",
        "df_entregas[\"CATEGORIA\"] = \"ENTREGA EFECTIVO DIA A\"\n",
        "df_transf1[\"CATEGORIA\"] = \"PAGOS TRANSFERENCIAS 1\"\n",
        "df_transf2[\"CATEGORIA\"] = \"PAGOS TRANSFERENCIAS 2\"\n",
        "df_ingresos[\"CATEGORIA\"] = \"INGRESO EFECTIVO\"\n",
        "\n",
        "# Unimos todos los DataFrames con las mismas columnas al final\n",
        "df_unificado = pd.concat([\n",
        "    df_servicio,\n",
        "    df_base,\n",
        "    df_gastos,\n",
        "    df_adelantos,\n",
        "    df_entregas,\n",
        "    df_transf1,\n",
        "    df_transf2,\n",
        "    df_ingresos\n",
        "], ignore_index=True)\n",
        "\n",
        "# Reescribimos el archivo agregando la hoja UNIFICADO\n",
        "with pd.ExcelWriter(ruta_salida, engine=\"openpyxl\", mode=\"a\") as writer:\n",
        "    df_unificado.to_excel(writer, sheet_name=\"UNIFICADO\", index=False)\n",
        "\n",
        "print(\"📌 Hoja 'UNIFICADO' agregada al archivo con formato largo y categoría incluida.\")\n"
      ],
      "metadata": {
        "colab": {
          "base_uri": "https://localhost:8080/"
        },
        "id": "Q3Mj1ZpZfYTp",
        "outputId": "c36ed77d-4849-4593-ae54-a72d1da2818b"
      },
      "execution_count": null,
      "outputs": [
        {
          "output_type": "stream",
          "name": "stdout",
          "text": [
            "📌 Hoja 'UNIFICADO' agregada al archivo con formato largo y categoría incluida.\n"
          ]
        }
      ]
    }
  ]
}