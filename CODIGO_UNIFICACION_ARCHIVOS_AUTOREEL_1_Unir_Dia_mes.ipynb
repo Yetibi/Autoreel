{
  "nbformat": 4,
  "nbformat_minor": 0,
  "metadata": {
    "colab": {
      "provenance": [],
      "mount_file_id": "17q3mrw6vyj142mzNKxd91MCpyFp3zt1a",
      "authorship_tag": "ABX9TyN2diZxG/YeIw7pyqUyl3Em",
      "include_colab_link": true
    },
    "kernelspec": {
      "name": "python3",
      "display_name": "Python 3"
    },
    "language_info": {
      "name": "python"
    }
  },
  "cells": [
    {
      "cell_type": "markdown",
      "metadata": {
        "id": "view-in-github",
        "colab_type": "text"
      },
      "source": [
        "<a href=\"https://colab.research.google.com/github/Yetibi/Autoreel/blob/main/CODIGO_UNIFICACION_ARCHIVOS_AUTOREEL_1_Unir_Dia_mes.ipynb\" target=\"_parent\"><img src=\"https://colab.research.google.com/assets/colab-badge.svg\" alt=\"Open In Colab\"/></a>"
      ]
    },
    {
      "cell_type": "markdown",
      "source": [
        "CODIGO CONSOLIDACIÓN ARCHIVOS RAW - AUTOREEL"
      ],
      "metadata": {
        "id": "sRM-YFK3tTz3"
      }
    },
    {
      "cell_type": "code",
      "source": [
        "from google.colab import drive\n",
        "drive.mount('/content/drive')"
      ],
      "metadata": {
        "colab": {
          "base_uri": "https://localhost:8080/"
        },
        "id": "dci24yvZtMLn",
        "outputId": "9aaf2342-a44a-49fe-97bd-58437b6346e4"
      },
      "execution_count": 30,
      "outputs": [
        {
          "output_type": "stream",
          "name": "stdout",
          "text": [
            "Drive already mounted at /content/drive; to attempt to forcibly remount, call drive.mount(\"/content/drive\", force_remount=True).\n"
          ]
        }
      ]
    },
    {
      "cell_type": "markdown",
      "source": [
        "ARCHIVO UNIFICADO COMPLETO - Unifica las pestañas diarias a 1 mensual por tipo de movimiento\n"
      ],
      "metadata": {
        "id": "HKZ0AnCDfHfq"
      }
    },
    {
      "cell_type": "code",
      "source": [
        "import pandas as pd\n",
        "\n",
        "# Configuración\n",
        "anio = 2024\n",
        "meses = {\"ENERO\": 1, \"FEBRERO\": 2}  # Meses y sus números\n",
        "nombre_archivo = f\"AUTOREEL ENERO {anio}.xlsx\"\n",
        "ruta_base = \"/content/drive/MyDrive/AUTOREEL CONSULTORIA/BASES DE DATOS SOURCE/Año 2024 AutoReel\"\n",
        "ruta_archivo = f\"{ruta_base}/{nombre_archivo}\"\n",
        "ruta_salida = f\"/content/drive/MyDrive/AUTOREEL CONSULTORIA/AUTOREEL_CONSOLIDADO_ENERO_FEBRERO_{anio}.xlsx\"\n",
        "\n",
        "# Días válidos por mes\n",
        "dias_validos = {\n",
        "    \"ENERO\": [f\"ENERO {str(i).zfill(2)}\" for i in range(9, 32) if i not in [14, 21, 28]],\n",
        "    \"FEBRERO\": [f\"FEBRERO {str(i).zfill(2)}\" for i in range(1, 30) if i not in [4, 11, 18, 25]],\n",
        "}\n",
        "\n",
        "# Abrimos el archivo\n",
        "xl = pd.ExcelFile(ruta_archivo)\n",
        "\n",
        "# Contenedores por tipo\n",
        "servicios = []\n",
        "base_dia = []\n",
        "gastos = []\n",
        "adelantos = []\n",
        "entregas = []\n",
        "pagos_transferencias_1 = []\n",
        "pagos_transferencias_2 = []\n",
        "ingresos_efectivo = []\n",
        "\n",
        "# Proceso por hoja y mes\n",
        "for mes, dias in dias_validos.items():\n",
        "    for hoja in dias:\n",
        "        if hoja in xl.sheet_names:\n",
        "            df_raw = xl.parse(hoja, header=None)\n",
        "            fecha = pd.to_datetime(f\"{hoja.split()[1]}/{meses[mes]}/{anio}\", dayfirst=True).date()\n",
        "\n",
        "            # 1. SERVICIO: B2:M39\n",
        "            tabla_servicio = df_raw.iloc[1:39, 1:13].copy()\n",
        "            tabla_servicio.columns = df_raw.iloc[1, 1:13]\n",
        "            tabla_servicio = tabla_servicio.dropna(how=\"all\")\n",
        "            tabla_servicio[\"FECHA\"] = fecha\n",
        "            servicios.append(tabla_servicio)\n",
        "\n",
        "            # 2. BASE DIA: P2\n",
        "            valor_base = df_raw.iloc[1, 15]\n",
        "            if pd.notna(valor_base):\n",
        "                base_dia.append({\"FECHA\": fecha, \"BASE DÍA\": valor_base})\n",
        "\n",
        "            # 3. GASTOS Ò PAGOS PROVEEDORES: O14:P38\n",
        "            df_gastos = df_raw.iloc[13:38, 14:16].copy()\n",
        "            df_gastos.columns = df_raw.iloc[13, 14:16]\n",
        "            df_gastos = df_gastos.dropna(how=\"all\")\n",
        "            df_gastos[\"FECHA\"] = fecha\n",
        "            gastos.append(df_gastos)\n",
        "\n",
        "            # 4. ADELANTOS O PRESTAMOS: R2:S7\n",
        "            df_adelantos = df_raw.iloc[1:7, 17:19].copy()\n",
        "            df_adelantos.columns = [\"PERSONA\", \"VALOR\"]\n",
        "            df_adelantos = df_adelantos.dropna(how=\"all\")\n",
        "            df_adelantos[\"FECHA\"] = fecha\n",
        "            adelantos.append(df_adelantos)\n",
        "\n",
        "            # 5. ENTREGA EFECTIVO DIA A: R10:S12\n",
        "            entrega = df_raw.iloc[9:12, 17:19].copy()\n",
        "            entrega.columns = [\"PERSONA\", \"VALOR\"]\n",
        "            entrega = entrega.dropna(how=\"all\")\n",
        "            entrega[\"FECHA\"] = fecha\n",
        "            entregas.append(entrega)\n",
        "\n",
        "            # 6. PAGOS TRANSFERENCIAS: R14:T38\n",
        "            pagos1 = df_raw.iloc[13:38, 17:20].copy()\n",
        "            pagos1.columns = df_raw.iloc[13, 17:20]\n",
        "            pagos1 = pagos1.dropna(how=\"all\")\n",
        "            pagos1[\"FECHA\"] = fecha\n",
        "            pagos_transferencias_1.append(pagos1)\n",
        "\n",
        "            # 7. ABONO/BANCO (llamado también transferencias): U2:W9\n",
        "            #pagos2 = df_raw.iloc[1:9, 20:23].copy()\n",
        "            #pagos2.columns = [\"ORDEN\", \"EFECTIVO\", \"TRANSFERENCIA\"]\n",
        "            #pagos2 = pagos2.dropna(how=\"all\")\n",
        "            #pagos2[\"FECHA\"] = fecha\n",
        "            #pagos_transferencias_2.append(pagos2)\n",
        "\n",
        "            # 8. INGRESO EFECTIVO: U10:W12\n",
        "            ingresos = df_raw.iloc[9:12, 20:23].copy()\n",
        "            ingresos.columns = [\"INGRESO EFECTIVO\", \"VALOR\", \"BANCO\"]\n",
        "            ingresos = ingresos.dropna(how=\"all\")\n",
        "            ingresos[\"FECHA\"] = fecha\n",
        "            ingresos_efectivo.append(ingresos)\n",
        "\n",
        "# Convertimos listas a DataFrames\n",
        "df_servicio = pd.concat(servicios, ignore_index=True)\n",
        "df_base = pd.DataFrame(base_dia)\n",
        "df_gastos = pd.concat(gastos, ignore_index=True)\n",
        "df_adelantos = pd.concat(adelantos, ignore_index=True)\n",
        "df_entregas = pd.concat(entregas, ignore_index=True)\n",
        "df_transf1 = pd.concat(pagos_transferencias_1, ignore_index=True)\n",
        "df_transf2 = pd.concat(pagos_transferencias_2, ignore_index=True)\n",
        "df_ingresos = pd.concat(ingresos_efectivo, ignore_index=True)\n",
        "\n",
        "# Guardamos todo\n",
        "with pd.ExcelWriter(ruta_salida, engine=\"openpyxl\", mode=\"w\") as writer:\n",
        "    df_servicio.to_excel(writer, sheet_name=\"SERVICIOS\", index=False)\n",
        "    df_base.to_excel(writer, sheet_name=\"BASE DÍA\", index=False)\n",
        "    df_gastos.to_excel(writer, sheet_name=\"GASTOS Ò PAGOS PROVEEDORES\", index=False)\n",
        "    df_adelantos.to_excel(writer, sheet_name=\"ADELANTOS O PRESTAMOS\", index=False)\n",
        "    df_entregas.to_excel(writer, sheet_name=\"ENTREGA EFECTIVO DIA A\", index=False)\n",
        "    df_transf1.to_excel(writer, sheet_name=\"PAGOS TRANSFERENCIAS 1\", index=False)\n",
        "    df_transf2.to_excel(writer, sheet_name=\"PAGOS TRANSFERENCIAS 2\", index=False)\n",
        "    df_ingresos.to_excel(writer, sheet_name=\"INGRESO EFECTIVO\", index=False)\n",
        "\n",
        "print(\"✅ Consolidación completada para enero y febrero.\")\n",
        "print(f\"📁 Archivo generado: {ruta_salida}\")"
      ],
      "metadata": {
        "colab": {
          "base_uri": "https://localhost:8080/",
          "height": 384
        },
        "id": "IRH9HD_2fQAt",
        "outputId": "1ba8190e-8d47-437c-a1da-4ab62c49c08f"
      },
      "execution_count": 31,
      "outputs": [
        {
          "output_type": "error",
          "ename": "ValueError",
          "evalue": "Length mismatch: Expected axis has 1 elements, new values have 3 elements",
          "traceback": [
            "\u001b[0;31m---------------------------------------------------------------------------\u001b[0m",
            "\u001b[0;31mValueError\u001b[0m                                Traceback (most recent call last)",
            "\u001b[0;32m<ipython-input-31-2fc98c0622cd>\u001b[0m in \u001b[0;36m<cell line: 0>\u001b[0;34m()\u001b[0m\n\u001b[1;32m     77\u001b[0m             \u001b[0;31m# 7. ABONO/BANCO (llamado también transferencias): U2:W9\u001b[0m\u001b[0;34m\u001b[0m\u001b[0;34m\u001b[0m\u001b[0m\n\u001b[1;32m     78\u001b[0m             \u001b[0mpagos2\u001b[0m \u001b[0;34m=\u001b[0m \u001b[0mdf_raw\u001b[0m\u001b[0;34m.\u001b[0m\u001b[0miloc\u001b[0m\u001b[0;34m[\u001b[0m\u001b[0;36m1\u001b[0m\u001b[0;34m:\u001b[0m\u001b[0;36m9\u001b[0m\u001b[0;34m,\u001b[0m \u001b[0;36m20\u001b[0m\u001b[0;34m:\u001b[0m\u001b[0;36m23\u001b[0m\u001b[0;34m]\u001b[0m\u001b[0;34m.\u001b[0m\u001b[0mcopy\u001b[0m\u001b[0;34m(\u001b[0m\u001b[0;34m)\u001b[0m\u001b[0;34m\u001b[0m\u001b[0;34m\u001b[0m\u001b[0m\n\u001b[0;32m---> 79\u001b[0;31m             \u001b[0mpagos2\u001b[0m\u001b[0;34m.\u001b[0m\u001b[0mcolumns\u001b[0m \u001b[0;34m=\u001b[0m \u001b[0;34m[\u001b[0m\u001b[0;34m\"ORDEN\"\u001b[0m\u001b[0;34m,\u001b[0m \u001b[0;34m\"EFECTIVO\"\u001b[0m\u001b[0;34m,\u001b[0m \u001b[0;34m\"TRANSFERENCIA\"\u001b[0m\u001b[0;34m]\u001b[0m\u001b[0;34m\u001b[0m\u001b[0;34m\u001b[0m\u001b[0m\n\u001b[0m\u001b[1;32m     80\u001b[0m             \u001b[0mpagos2\u001b[0m \u001b[0;34m=\u001b[0m \u001b[0mpagos2\u001b[0m\u001b[0;34m.\u001b[0m\u001b[0mdropna\u001b[0m\u001b[0;34m(\u001b[0m\u001b[0mhow\u001b[0m\u001b[0;34m=\u001b[0m\u001b[0;34m\"all\"\u001b[0m\u001b[0;34m)\u001b[0m\u001b[0;34m\u001b[0m\u001b[0;34m\u001b[0m\u001b[0m\n\u001b[1;32m     81\u001b[0m             \u001b[0mpagos2\u001b[0m\u001b[0;34m[\u001b[0m\u001b[0;34m\"FECHA\"\u001b[0m\u001b[0;34m]\u001b[0m \u001b[0;34m=\u001b[0m \u001b[0mfecha\u001b[0m\u001b[0;34m\u001b[0m\u001b[0;34m\u001b[0m\u001b[0m\n",
            "\u001b[0;32m/usr/local/lib/python3.11/dist-packages/pandas/core/generic.py\u001b[0m in \u001b[0;36m__setattr__\u001b[0;34m(self, name, value)\u001b[0m\n\u001b[1;32m   6311\u001b[0m         \u001b[0;32mtry\u001b[0m\u001b[0;34m:\u001b[0m\u001b[0;34m\u001b[0m\u001b[0;34m\u001b[0m\u001b[0m\n\u001b[1;32m   6312\u001b[0m             \u001b[0mobject\u001b[0m\u001b[0;34m.\u001b[0m\u001b[0m__getattribute__\u001b[0m\u001b[0;34m(\u001b[0m\u001b[0mself\u001b[0m\u001b[0;34m,\u001b[0m \u001b[0mname\u001b[0m\u001b[0;34m)\u001b[0m\u001b[0;34m\u001b[0m\u001b[0;34m\u001b[0m\u001b[0m\n\u001b[0;32m-> 6313\u001b[0;31m             \u001b[0;32mreturn\u001b[0m \u001b[0mobject\u001b[0m\u001b[0;34m.\u001b[0m\u001b[0m__setattr__\u001b[0m\u001b[0;34m(\u001b[0m\u001b[0mself\u001b[0m\u001b[0;34m,\u001b[0m \u001b[0mname\u001b[0m\u001b[0;34m,\u001b[0m \u001b[0mvalue\u001b[0m\u001b[0;34m)\u001b[0m\u001b[0;34m\u001b[0m\u001b[0;34m\u001b[0m\u001b[0m\n\u001b[0m\u001b[1;32m   6314\u001b[0m         \u001b[0;32mexcept\u001b[0m \u001b[0mAttributeError\u001b[0m\u001b[0;34m:\u001b[0m\u001b[0;34m\u001b[0m\u001b[0;34m\u001b[0m\u001b[0m\n\u001b[1;32m   6315\u001b[0m             \u001b[0;32mpass\u001b[0m\u001b[0;34m\u001b[0m\u001b[0;34m\u001b[0m\u001b[0m\n",
            "\u001b[0;32mproperties.pyx\u001b[0m in \u001b[0;36mpandas._libs.properties.AxisProperty.__set__\u001b[0;34m()\u001b[0m\n",
            "\u001b[0;32m/usr/local/lib/python3.11/dist-packages/pandas/core/generic.py\u001b[0m in \u001b[0;36m_set_axis\u001b[0;34m(self, axis, labels)\u001b[0m\n\u001b[1;32m    812\u001b[0m         \"\"\"\n\u001b[1;32m    813\u001b[0m         \u001b[0mlabels\u001b[0m \u001b[0;34m=\u001b[0m \u001b[0mensure_index\u001b[0m\u001b[0;34m(\u001b[0m\u001b[0mlabels\u001b[0m\u001b[0;34m)\u001b[0m\u001b[0;34m\u001b[0m\u001b[0;34m\u001b[0m\u001b[0m\n\u001b[0;32m--> 814\u001b[0;31m         \u001b[0mself\u001b[0m\u001b[0;34m.\u001b[0m\u001b[0m_mgr\u001b[0m\u001b[0;34m.\u001b[0m\u001b[0mset_axis\u001b[0m\u001b[0;34m(\u001b[0m\u001b[0maxis\u001b[0m\u001b[0;34m,\u001b[0m \u001b[0mlabels\u001b[0m\u001b[0;34m)\u001b[0m\u001b[0;34m\u001b[0m\u001b[0;34m\u001b[0m\u001b[0m\n\u001b[0m\u001b[1;32m    815\u001b[0m         \u001b[0mself\u001b[0m\u001b[0;34m.\u001b[0m\u001b[0m_clear_item_cache\u001b[0m\u001b[0;34m(\u001b[0m\u001b[0;34m)\u001b[0m\u001b[0;34m\u001b[0m\u001b[0;34m\u001b[0m\u001b[0m\n\u001b[1;32m    816\u001b[0m \u001b[0;34m\u001b[0m\u001b[0m\n",
            "\u001b[0;32m/usr/local/lib/python3.11/dist-packages/pandas/core/internals/managers.py\u001b[0m in \u001b[0;36mset_axis\u001b[0;34m(self, axis, new_labels)\u001b[0m\n\u001b[1;32m    236\u001b[0m     \u001b[0;32mdef\u001b[0m \u001b[0mset_axis\u001b[0m\u001b[0;34m(\u001b[0m\u001b[0mself\u001b[0m\u001b[0;34m,\u001b[0m \u001b[0maxis\u001b[0m\u001b[0;34m:\u001b[0m \u001b[0mAxisInt\u001b[0m\u001b[0;34m,\u001b[0m \u001b[0mnew_labels\u001b[0m\u001b[0;34m:\u001b[0m \u001b[0mIndex\u001b[0m\u001b[0;34m)\u001b[0m \u001b[0;34m->\u001b[0m \u001b[0;32mNone\u001b[0m\u001b[0;34m:\u001b[0m\u001b[0;34m\u001b[0m\u001b[0;34m\u001b[0m\u001b[0m\n\u001b[1;32m    237\u001b[0m         \u001b[0;31m# Caller is responsible for ensuring we have an Index object.\u001b[0m\u001b[0;34m\u001b[0m\u001b[0;34m\u001b[0m\u001b[0m\n\u001b[0;32m--> 238\u001b[0;31m         \u001b[0mself\u001b[0m\u001b[0;34m.\u001b[0m\u001b[0m_validate_set_axis\u001b[0m\u001b[0;34m(\u001b[0m\u001b[0maxis\u001b[0m\u001b[0;34m,\u001b[0m \u001b[0mnew_labels\u001b[0m\u001b[0;34m)\u001b[0m\u001b[0;34m\u001b[0m\u001b[0;34m\u001b[0m\u001b[0m\n\u001b[0m\u001b[1;32m    239\u001b[0m         \u001b[0mself\u001b[0m\u001b[0;34m.\u001b[0m\u001b[0maxes\u001b[0m\u001b[0;34m[\u001b[0m\u001b[0maxis\u001b[0m\u001b[0;34m]\u001b[0m \u001b[0;34m=\u001b[0m \u001b[0mnew_labels\u001b[0m\u001b[0;34m\u001b[0m\u001b[0;34m\u001b[0m\u001b[0m\n\u001b[1;32m    240\u001b[0m \u001b[0;34m\u001b[0m\u001b[0m\n",
            "\u001b[0;32m/usr/local/lib/python3.11/dist-packages/pandas/core/internals/base.py\u001b[0m in \u001b[0;36m_validate_set_axis\u001b[0;34m(self, axis, new_labels)\u001b[0m\n\u001b[1;32m     96\u001b[0m \u001b[0;34m\u001b[0m\u001b[0m\n\u001b[1;32m     97\u001b[0m         \u001b[0;32melif\u001b[0m \u001b[0mnew_len\u001b[0m \u001b[0;34m!=\u001b[0m \u001b[0mold_len\u001b[0m\u001b[0;34m:\u001b[0m\u001b[0;34m\u001b[0m\u001b[0;34m\u001b[0m\u001b[0m\n\u001b[0;32m---> 98\u001b[0;31m             raise ValueError(\n\u001b[0m\u001b[1;32m     99\u001b[0m                 \u001b[0;34mf\"Length mismatch: Expected axis has {old_len} elements, new \"\u001b[0m\u001b[0;34m\u001b[0m\u001b[0;34m\u001b[0m\u001b[0m\n\u001b[1;32m    100\u001b[0m                 \u001b[0;34mf\"values have {new_len} elements\"\u001b[0m\u001b[0;34m\u001b[0m\u001b[0;34m\u001b[0m\u001b[0m\n",
            "\u001b[0;31mValueError\u001b[0m: Length mismatch: Expected axis has 1 elements, new values have 3 elements"
          ]
        }
      ]
    },
    {
      "cell_type": "markdown",
      "source": [
        "2. GENERA PESTAÑA UNIFICADA DE TODAS LAS CATEGORIAS DE MOVIMIENTOS POR MES\n"
      ],
      "metadata": {
        "id": "A_zyk8eefSbL"
      }
    },
    {
      "cell_type": "code",
      "source": [
        "# 🔄 Crear hoja UNIFICADO con categoría\n",
        "df_servicio[\"CATEGORIA\"] = \"SERVICIOS\"\n",
        "df_base[\"CATEGORIA\"] = \"BASE DÍA\"\n",
        "df_gastos[\"CATEGORIA\"] = \"GASTOS Ò PAGOS PROVEEDORES\"\n",
        "df_adelantos[\"CATEGORIA\"] = \"ADELANTOS O PRESTAMOS\"\n",
        "df_entregas[\"CATEGORIA\"] = \"ENTREGA EFECTIVO DIA A\"\n",
        "df_transf1[\"CATEGORIA\"] = \"PAGOS TRANSFERENCIAS 1\"\n",
        "df_transf2[\"CATEGORIA\"] = \"PAGOS TRANSFERENCIAS 2\"\n",
        "df_ingresos[\"CATEGORIA\"] = \"INGRESO EFECTIVO\"\n",
        "\n",
        "# Unimos todos los DataFrames con las mismas columnas al final\n",
        "df_unificado = pd.concat([\n",
        "    df_servicio,\n",
        "    df_base,\n",
        "    df_gastos,\n",
        "    df_adelantos,\n",
        "    df_entregas,\n",
        "    df_transf1,\n",
        "    df_transf2,\n",
        "    df_ingresos\n",
        "], ignore_index=True)\n",
        "\n",
        "# Reescribimos el archivo agregando la hoja UNIFICADO\n",
        "with pd.ExcelWriter(ruta_salida, engine=\"openpyxl\", mode=\"a\") as writer:\n",
        "    df_unificado.to_excel(writer, sheet_name=\"UNIFICADO\", index=False)\n",
        "\n",
        "print(\"📌 Hoja 'UNIFICADO' agregada al archivo con formato largo y categoría incluida.\")\n"
      ],
      "metadata": {
        "colab": {
          "base_uri": "https://localhost:8080/"
        },
        "id": "Q3Mj1ZpZfYTp",
        "outputId": "c36ed77d-4849-4593-ae54-a72d1da2818b"
      },
      "execution_count": null,
      "outputs": [
        {
          "output_type": "stream",
          "name": "stdout",
          "text": [
            "📌 Hoja 'UNIFICADO' agregada al archivo con formato largo y categoría incluida.\n"
          ]
        }
      ]
    }
  ]
}